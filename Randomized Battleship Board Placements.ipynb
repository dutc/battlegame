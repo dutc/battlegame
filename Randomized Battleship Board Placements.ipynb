{
 "cells": [
  {
   "cell_type": "code",
   "execution_count": 214,
   "metadata": {},
   "outputs": [
    {
     "name": "stdout",
     "output_type": "stream",
     "text": [
      "bbbb------\n",
      "----------\n",
      "-d--------\n",
      "-d--------\n",
      "----------\n",
      "---------c\n",
      "---------c\n",
      "---------c\n",
      "-----sss-c\n",
      "--rrr----c\n"
     ]
    }
   ],
   "source": [
    "### Constructs board and randomly places Battleship pieces onto board.\n",
    "### Still need to account for cases when while loop is infinite (aka when board is too small)\n",
    "\n",
    "import random\n",
    "import numpy as np\n",
    "\n",
    "row, column = 10, 10\n",
    "board = np.chararray((row, column))\n",
    "board[:] = \"-\"\n",
    "\n",
    "def stringify(board):\n",
    "    return '\\n'.join(list(map(lambda x: ''.join(x), [lis for lis in board])))\n",
    "\n",
    "ships = ['carrier', 'battleship', 'cruiser', 'submarine', 'destroyer']\n",
    "ship_size = dict(zip(ships, [5, 4, 3, 3, 2]))\n",
    "ship_symbol = dict(zip(ships, ['c', 'b', 'r', 's', 'd']))\n",
    "\n",
    "cache = set()\n",
    "while len(ships) != 0:\n",
    "    ship = ships.pop(0)\n",
    "    pos = set()\n",
    "    position = random.choice(['h','v'])\n",
    "    if position == \"v\":\n",
    "        m, n = random.choice(range(0, row - ship_size[ship] + 1)), random.choice(range(0, column))\n",
    "    else:\n",
    "        m, n = random.choice(range(0, row)), random.choice(range(0, column - ship_size[ship] + 1))\n",
    "    for length in range(ship_size[ship]):\n",
    "        if position == 'v':\n",
    "            pos.add((m + length, n))\n",
    "        else: \n",
    "            pos.add((m, n + length))\n",
    "    if set.intersection(cache, pos) == set():\n",
    "        cache = cache | pos\n",
    "    else:\n",
    "        ships.append(ship)\n",
    "        continue\n",
    "    for h, k in pos:\n",
    "        board[h, k] = ship_symbol[ship]\n",
    "\n",
    "print(stringify(board))"
   ]
  },
  {
   "cell_type": "code",
   "execution_count": null,
   "metadata": {
    "collapsed": true
   },
   "outputs": [],
   "source": []
  }
 ],
 "metadata": {
  "kernelspec": {
   "display_name": "Python 2",
   "language": "python",
   "name": "python2"
  },
  "language_info": {
   "codemirror_mode": {
    "name": "ipython",
    "version": 2
   },
   "file_extension": ".py",
   "mimetype": "text/x-python",
   "name": "python",
   "nbconvert_exporter": "python",
   "pygments_lexer": "ipython2",
   "version": "2.7.14"
  }
 },
 "nbformat": 4,
 "nbformat_minor": 2
}
